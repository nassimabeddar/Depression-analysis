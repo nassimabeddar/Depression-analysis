{
 "cells": [
  {
   "cell_type": "code",
   "execution_count": 2,
   "metadata": {},
   "outputs": [],
   "source": [
    "#package et chargement fichiers\n",
    "\n",
    "import pandas as pd\n",
    "import matplotlib.pyplot as plt\n",
    "import numpy as np"
   ]
  },
  {
   "cell_type": "code",
   "execution_count": 3,
   "metadata": {},
   "outputs": [],
   "source": [
    "demo = pd.read_csv(\"D:/git-projets/Depression-analysis/Demographic_symptom.csv\", index_col = 0)\n"
   ]
  },
  {
   "cell_type": "markdown",
   "metadata": {},
   "source": [
    "nettoyage des données"
   ]
  },
  {
   "cell_type": "code",
   "execution_count": 4,
   "metadata": {},
   "outputs": [
    {
     "name": "stdout",
     "output_type": "stream",
     "text": [
      "<bound method NDFrame.head of       batch   age     sex Diag  \\\n",
      "AA003   1st  45.0  Female   HC   \n",
      "AA101   3rd  26.0  Female   HC   \n",
      "AA115   1st  44.0  Female   HC   \n",
      "AA296   2nd  27.0    Male   HC   \n",
      "AA328   1st  51.0    Male  MDD   \n",
      "...     ...   ...     ...  ...   \n",
      "AN466   4th  28.0    Male  MDD   \n",
      "AN736   4th  22.0  Female  MDD   \n",
      "AN965   4th  29.0    Male  MDD   \n",
      "AO427   4th  26.0    Male  MDD   \n",
      "AO507   4th  23.0    Male  MDD   \n",
      "\n",
      "                                     PrimaryDiagnosis  hs-CRP  shaps_score  \\\n",
      "AA003                      Healthy_Control,_High_Risk    0.40         25.0   \n",
      "AA101                                 Healthy_Control     NaN         15.0   \n",
      "AA115                                 Healthy_Control    6.90         16.0   \n",
      "AA296                                 Healthy_Control    0.60         14.0   \n",
      "AA328  Major_Depressive_Disorder,_Recurrent,_Moderate    1.60         24.0   \n",
      "...                                               ...     ...          ...   \n",
      "AN466                                             NaN   31.50         42.0   \n",
      "AN736                                             NaN    1.31         26.0   \n",
      "AN965                                             NaN    0.30         40.0   \n",
      "AO427                                             NaN    2.10         28.0   \n",
      "AO507                                             NaN     NaN         27.0   \n",
      "\n",
      "       psqi_score  ctq_denial_score  ctq_emoabuse_score  ...  MADRS_Q1  \\\n",
      "AA003         5.0              12.0                 5.0  ...       0.0   \n",
      "AA101         5.0              15.0                 5.0  ...       0.0   \n",
      "AA115         5.0              10.0                 5.0  ...       0.0   \n",
      "AA296         5.0              12.0                 5.0  ...       0.0   \n",
      "AA328        12.0              15.0                 5.0  ...       2.0   \n",
      "...           ...               ...                 ...  ...       ...   \n",
      "AN466         8.0               6.0                10.0  ...       4.0   \n",
      "AN736        10.0               9.0                11.0  ...       2.0   \n",
      "AN965         7.0               9.0                 5.0  ...       4.0   \n",
      "AO427        11.0               7.0                12.0  ...       2.0   \n",
      "AO507        10.0               8.0                 9.0  ...       4.0   \n",
      "\n",
      "       MADRS_Q2  MADRS_Q3  MADRS_Q4  MADRS_Q5  MADRS_Q6  MADRS_Q7  MADRS_Q8  \\\n",
      "AA003       0.0       0.0       0.0       0.0       0.0       0.0       0.0   \n",
      "AA101       0.0       0.0       0.0       2.0       2.0       0.0       0.0   \n",
      "AA115       0.0       0.0       0.0       0.0       0.0       0.0       0.0   \n",
      "AA296       0.0       0.0       0.0       0.0       0.0       0.0       0.0   \n",
      "AA328       4.0       0.0       4.0       0.0       2.0       4.0       2.0   \n",
      "...         ...       ...       ...       ...       ...       ...       ...   \n",
      "AN466       4.0       2.0       0.0       0.0       0.0       4.0       4.0   \n",
      "AN736       4.0       4.0       2.0       0.0       2.0       4.0       4.0   \n",
      "AN965       2.0       4.0       0.0       2.0       2.0       4.0       4.0   \n",
      "AO427       4.0       4.0       0.0       0.0       4.0       4.0       2.0   \n",
      "AO507       4.0       2.0       4.0       0.0       4.0       4.0       2.0   \n",
      "\n",
      "       MADRS_Q9  MADRS_Q10  \n",
      "AA003       0.0        0.0  \n",
      "AA101       0.0        0.0  \n",
      "AA115       0.0        0.0  \n",
      "AA296       0.0        0.0  \n",
      "AA328       4.0        0.0  \n",
      "...         ...        ...  \n",
      "AN466       2.0        2.0  \n",
      "AN736       2.0        0.0  \n",
      "AN965       4.0        0.0  \n",
      "AO427       4.0        0.0  \n",
      "AO507       4.0        0.0  \n",
      "\n",
      "[160 rows x 49 columns]>\n",
      "<class 'pandas.core.frame.DataFrame'>\n",
      "Index: 160 entries, AA003 to AO507\n",
      "Data columns (total 49 columns):\n",
      "batch                      160 non-null object\n",
      "age                        160 non-null float64\n",
      "sex                        160 non-null object\n",
      "Diag                       160 non-null object\n",
      "PrimaryDiagnosis           115 non-null object\n",
      "hs-CRP                     153 non-null float64\n",
      "shaps_score                153 non-null float64\n",
      "psqi_score                 156 non-null float64\n",
      "ctq_denial_score           153 non-null float64\n",
      "ctq_emoabuse_score         153 non-null float64\n",
      "ctq_emoneglect_score       153 non-null float64\n",
      "ctq_physabuse_score        153 non-null float64\n",
      "ctq_physneglect_score      153 non-null float64\n",
      "ctq_sexabuse_score         153 non-null float64\n",
      "ctq_score                  153 non-null float64\n",
      "madrs_score                156 non-null float64\n",
      "hamd_hamd17_score          156 non-null float64\n",
      "hamd_hamd21_score          156 non-null float64\n",
      "hama_score                 156 non-null float64\n",
      "poms_score_tension         156 non-null float64\n",
      "poms_score_depression      156 non-null float64\n",
      "poms_score_anger           156 non-null float64\n",
      "poms_score_fatigue         156 non-null float64\n",
      "poms_score_friendliness    156 non-null float64\n",
      "poms_score_confusion       156 non-null float64\n",
      "poms_score_vigour          156 non-null float64\n",
      "poms_score_tmd             156 non-null float64\n",
      "qids_sleep_score           155 non-null float64\n",
      "qids_appetite_score        154 non-null float64\n",
      "qids_psychomotor_score     154 non-null float64\n",
      "qids_score                 155 non-null float64\n",
      "tci_coop_score             156 non-null float64\n",
      "tci_harmavoid_score        156 non-null float64\n",
      "tci_noveltyseek_score      156 non-null float64\n",
      "tci_persistence_score      149 non-null float64\n",
      "tci_rewarddep_score        156 non-null float64\n",
      "tci_selfdirect_score       156 non-null float64\n",
      "tci_selftranscend_score    156 non-null float64\n",
      "tci_impulsivity_score      149 non-null float64\n",
      "MADRS_Q1                   156 non-null float64\n",
      "MADRS_Q2                   156 non-null float64\n",
      "MADRS_Q3                   156 non-null float64\n",
      "MADRS_Q4                   156 non-null float64\n",
      "MADRS_Q5                   155 non-null float64\n",
      "MADRS_Q6                   156 non-null float64\n",
      "MADRS_Q7                   156 non-null float64\n",
      "MADRS_Q8                   156 non-null float64\n",
      "MADRS_Q9                   156 non-null float64\n",
      "MADRS_Q10                  156 non-null float64\n",
      "dtypes: float64(45), object(4)\n",
      "memory usage: 62.5+ KB\n",
      "None\n"
     ]
    }
   ],
   "source": [
    "\n",
    "\n",
    "\"\"\"\n",
    "intervalle de score attendus :\n",
    "\n",
    "shaps : 14 à 56\n",
    "psqi 0 à 21\n",
    "madrs : 0 à 60\n",
    "hamd 17 : 0 à 52\n",
    "hamd 21 : 0 à 60\n",
    "ham-a : 0 à 56\n",
    "poms-tension : 0à 36\n",
    "poms-depression : 0 à 60\n",
    "poms-agressivité : 0 à48 \n",
    "poms-fatigue : 0 à 28\n",
    "poms-relation-pers : 0 à 28\n",
    "poms-confusion : 0 à 28\n",
    "poms-vigueur : 0 à 32\n",
    "poms-total : -32 à 68\n",
    "qids_sleep_score : 0 à 3\n",
    "qids_appetite_score : 0 à 3\n",
    "qids_psychomotor_score : 0 à 3\n",
    "qids_total : 0 à 27\n",
    "\n",
    "\"\"\"\n",
    "#exploration\n",
    "#afficher le détail du df\n",
    "print(demo.head)\n",
    "print(demo.info())\n"
   ]
  },
  {
   "cell_type": "code",
   "execution_count": 5,
   "metadata": {},
   "outputs": [],
   "source": [
    "#redéfinir le nom de la colonne hs-CRP\n",
    "demo.rename(columns={'hs-CRP': 'hs_CRP'}, inplace=True)\n"
   ]
  },
  {
   "cell_type": "code",
   "execution_count": 6,
   "metadata": {},
   "outputs": [],
   "source": [
    "\n",
    "#filtre des valeurs abberrantes\n",
    "\n",
    "shaps_filter = (demo.shaps_score >= 14) & (demo.shaps_score <= 56)\n",
    "psqi_filter = demo.psqi_score <= 21\n",
    "madrs_filter = demo.madrs_score <= 60\n",
    "hamd17_filter = demo.hamd_hamd17_score <= 52\n",
    "hamd21_filter = demo.hamd_hamd21_score <= 60\n",
    "hama_filter = demo.hama_score <= 56\n",
    "poms_filter_tension = demo.poms_score_tension <= 36\n",
    "poms_filter_depression = demo.poms_score_depression <= 60\n",
    "poms_filter_anger = demo.poms_score_anger <= 48\n",
    "poms_filter_fatigue = demo.poms_score_fatigue <= 28\n",
    "poms_filter_friendliness = demo.poms_score_friendliness<=28\n",
    "poms_filter_confusion = demo.poms_score_confusion <= 28\n",
    "poms_filter_vigour = demo.poms_score_vigour <= 32\n",
    "poms_filter_tmd = (demo.poms_score_tmd >= -32) & (demo.poms_score_tmd <= 168)\n",
    "qids_sleep_filter = demo.qids_sleep_score <= 3\n",
    "qids_appetite_filter = demo.qids_appetite_score <= 3\n",
    "qids_psychomotor_filter = demo.qids_psychomotor_score <= 3\n",
    "qids_filter = demo.qids_score <= 27\n",
    "MADRS_Q1_filter = (demo.MADRS_Q1 >= 0) & (demo.MADRS_Q1 <= 6)\n",
    "MADRS_Q2_filter = (demo.MADRS_Q2 >= 0) & (demo.MADRS_Q2 <= 6)\n",
    "MADRS_Q3_filter = (demo.MADRS_Q3 >= 0) & (demo.MADRS_Q3 <= 6)\n",
    "MADRS_Q4_filter = (demo.MADRS_Q4 >= 0) & (demo.MADRS_Q4 <= 6)\n",
    "MADRS_Q5_filter = (demo.MADRS_Q5 >= 0) & (demo.MADRS_Q5 <= 6)\n",
    "MADRS_Q6_filter = (demo.MADRS_Q6 >= 0) & (demo.MADRS_Q6 <= 6)\n",
    "MADRS_Q7_filter = (demo.MADRS_Q7 >= 0) & (demo.MADRS_Q7 <= 6)\n",
    "MADRS_Q8_filter = (demo.MADRS_Q8 >= 0) & (demo.MADRS_Q8 <= 6)\n",
    "MADRS_Q9_filter = (demo.MADRS_Q9 >= 0) & (demo.MADRS_Q9 <= 6)\n",
    "MADRS_Q10_filter = (demo.MADRS_Q10 >= 0) & (demo.MADRS_Q10 <= 6)\n",
    "\n",
    "all_filter_abber = shaps_filter & psqi_filter & madrs_filter & hamd17_filter & hamd21_filter & hama_filter & poms_filter_tension & poms_filter_depression & poms_filter_anger & poms_filter_fatigue & poms_filter_friendliness & poms_filter_confusion & poms_filter_vigour & poms_filter_tmd & qids_sleep_filter & qids_appetite_filter & qids_psychomotor_filter & qids_filter & MADRS_Q1_filter & MADRS_Q2_filter & MADRS_Q3_filter & MADRS_Q4_filter & MADRS_Q5_filter & MADRS_Q6_filter & MADRS_Q7_filter & MADRS_Q8_filter & MADRS_Q9_filter & MADRS_Q10_filter\n",
    "\n"
   ]
  },
  {
   "cell_type": "code",
   "execution_count": 7,
   "metadata": {},
   "outputs": [],
   "source": [
    "#suppression des valeurs manquantes\n",
    "nna_hs_CRP = demo.hs_CRP.notna()\n",
    "shaps_nna = demo.shaps_score.notna()\n",
    "psqi_nna = demo.psqi_score.notna()\n",
    "madrs_nna = demo.madrs_score.notna()\n",
    "hamd17_nna = demo.hamd_hamd17_score.notna()\n",
    "hamd21_nna = demo.hamd_hamd21_score.notna()\n",
    "hama_nna = demo.hama_score.notna()\n",
    "poms_nna_tension = demo.poms_score_tension.notna()\n",
    "poms_nna_depression = demo.poms_score_depression.notna()\n",
    "poms_nna_anger = demo.poms_score_anger.notna()\n",
    "poms_nna_fatigue = demo.poms_score_fatigue.notna()\n",
    "poms_nna_friendliness = demo.poms_score_friendliness.notna()\n",
    "poms_nna_confusion = demo.poms_score_confusion.notna()\n",
    "poms_nna_vigour = demo.poms_score_vigour.notna()\n",
    "poms_nna_tmd = demo.poms_score_tmd.notna()\n",
    "qids_nna_psychomotor = demo.qids_psychomotor_score.notna()\n",
    "qids_nna_sleep = demo.qids_sleep_score.notna()\n",
    "qids_nna_appetite = demo.qids_appetite_score.notna()\n",
    "qids_nna = demo.qids_score.notna()\n",
    "MADRS_Q1_nna = demo.MADRS_Q1.notna()\n",
    "MADRS_Q2_nna = demo.MADRS_Q2.notna()\n",
    "MADRS_Q3_nna = demo.MADRS_Q3.notna()\n",
    "MADRS_Q4_nna = demo.MADRS_Q4.notna()\n",
    "MADRS_Q5_nna = demo.MADRS_Q5.notna()\n",
    "MADRS_Q6_nna = demo.MADRS_Q6.notna()\n",
    "MADRS_Q7_nna= demo.MADRS_Q7.notna()\n",
    "MADRS_Q8_nna = demo.MADRS_Q8.notna()\n",
    "MADRS_Q9_nna = demo.MADRS_Q9.notna()\n",
    "MADRS_Q10_nna = demo.MADRS_Q10.notna()\n",
    "ctq_denial_nna = demo.ctq_denial_score.notna()\n",
    "ctq_emoabuse_nna = demo.ctq_emoabuse_score.notna()\n",
    "ctq_emoneglect_nna = demo.ctq_emoneglect_score.notna()\n",
    "ctq_physabuse_nna = demo.ctq_physabuse_score.notna()\n",
    "ctq_physneglect_nna = demo.ctq_physneglect_score.notna()\n",
    "ctq_sexabuse_nna = demo.ctq_sexabuse_score.notna()\n",
    "ctq_score_nna = demo.ctq_score.notna()\n",
    "tci_coop_nna = demo.tci_coop_score.notna()\n",
    "tci_harmavoid_nna = demo.tci_harmavoid_score.notna()\n",
    "tci_noveltyseek_nna = demo.tci_noveltyseek_score.notna()\n",
    "tci_persistence_nna = demo.tci_persistence_score.notna()\n",
    "tci_rewarddep_nna = demo.tci_rewarddep_score.notna()\n",
    "tci_selfdirect_nna = demo.tci_selfdirect_score.notna()\n",
    "tci_selftranscend_nna = demo.tci_selftranscend_score.notna()\n",
    "tci_impulsivity_nna = demo.tci_impulsivity_score.notna()\n",
    "PrimaryDiagnosis_nna = demo.PrimaryDiagnosis.notna()\n",
    "\n",
    "all_nna_spd = nna_hs_CRP & shaps_nna & psqi_nna & madrs_nna & hamd17_nna & hamd21_nna & hama_nna & poms_nna_tension & poms_nna_depression & poms_nna_anger & poms_nna_fatigue & poms_nna_friendliness& poms_nna_confusion & poms_nna_vigour  & poms_nna_tmd & qids_nna_psychomotor & qids_nna_sleep & qids_nna_appetite & qids_nna & MADRS_Q1_nna & MADRS_Q2_nna & MADRS_Q3_nna & MADRS_Q4_nna & MADRS_Q5_nna & MADRS_Q6_nna & MADRS_Q7_nna & MADRS_Q8_nna & MADRS_Q9_nna & MADRS_Q10_nna & ctq_denial_nna & ctq_emoabuse_nna & ctq_emoneglect_nna & ctq_physabuse_nna & ctq_physneglect_nna & ctq_sexabuse_nna & ctq_score_nna & tci_coop_nna & tci_harmavoid_nna & tci_noveltyseek_nna & tci_persistence_nna & tci_rewarddep_nna & tci_selfdirect_nna & tci_selftranscend_nna & tci_impulsivity_nna\n",
    "all_nna_pd = nna_hs_CRP & shaps_nna & psqi_nna & madrs_nna & hamd17_nna & hamd21_nna & hama_nna & poms_nna_tension & poms_nna_depression & poms_nna_anger & poms_nna_fatigue & poms_nna_friendliness& poms_nna_confusion & poms_nna_vigour  & poms_nna_tmd & qids_nna_psychomotor & qids_nna_sleep & qids_nna_appetite & qids_nna & MADRS_Q1_nna & MADRS_Q2_nna & MADRS_Q3_nna & MADRS_Q4_nna & MADRS_Q5_nna & MADRS_Q6_nna & MADRS_Q7_nna & MADRS_Q8_nna & MADRS_Q9_nna & MADRS_Q10_nna & ctq_denial_nna & ctq_emoabuse_nna & ctq_emoneglect_nna & ctq_physabuse_nna & ctq_physneglect_nna & ctq_sexabuse_nna & ctq_score_nna & tci_coop_nna & tci_harmavoid_nna & tci_noveltyseek_nna & tci_persistence_nna & tci_rewarddep_nna & tci_selfdirect_nna & tci_selftranscend_nna & tci_impulsivity_nna & PrimaryDiagnosis_nna\n"
   ]
  },
  {
   "cell_type": "code",
   "execution_count": 8,
   "metadata": {},
   "outputs": [
    {
     "name": "stdout",
     "output_type": "stream",
     "text": [
      "<class 'pandas.core.frame.DataFrame'>\n",
      "Index: 123 entries, AA003 to AN965\n",
      "Data columns (total 48 columns):\n",
      "batch                      123 non-null object\n",
      "age                        123 non-null float64\n",
      "sex                        123 non-null object\n",
      "Diag                       123 non-null object\n",
      "hs_CRP                     123 non-null float64\n",
      "shaps_score                123 non-null float64\n",
      "psqi_score                 123 non-null float64\n",
      "ctq_denial_score           123 non-null float64\n",
      "ctq_emoabuse_score         123 non-null float64\n",
      "ctq_emoneglect_score       123 non-null float64\n",
      "ctq_physabuse_score        123 non-null float64\n",
      "ctq_physneglect_score      123 non-null float64\n",
      "ctq_sexabuse_score         123 non-null float64\n",
      "ctq_score                  123 non-null float64\n",
      "madrs_score                123 non-null float64\n",
      "hamd_hamd17_score          123 non-null float64\n",
      "hamd_hamd21_score          123 non-null float64\n",
      "hama_score                 123 non-null float64\n",
      "poms_score_tension         123 non-null float64\n",
      "poms_score_depression      123 non-null float64\n",
      "poms_score_anger           123 non-null float64\n",
      "poms_score_fatigue         123 non-null float64\n",
      "poms_score_friendliness    123 non-null float64\n",
      "poms_score_confusion       123 non-null float64\n",
      "poms_score_vigour          123 non-null float64\n",
      "poms_score_tmd             123 non-null float64\n",
      "qids_sleep_score           123 non-null float64\n",
      "qids_appetite_score        123 non-null float64\n",
      "qids_psychomotor_score     123 non-null float64\n",
      "qids_score                 123 non-null float64\n",
      "tci_coop_score             123 non-null float64\n",
      "tci_harmavoid_score        123 non-null float64\n",
      "tci_noveltyseek_score      123 non-null float64\n",
      "tci_persistence_score      123 non-null float64\n",
      "tci_rewarddep_score        123 non-null float64\n",
      "tci_selfdirect_score       123 non-null float64\n",
      "tci_selftranscend_score    123 non-null float64\n",
      "tci_impulsivity_score      123 non-null float64\n",
      "MADRS_Q1                   123 non-null float64\n",
      "MADRS_Q2                   123 non-null float64\n",
      "MADRS_Q3                   123 non-null float64\n",
      "MADRS_Q4                   123 non-null float64\n",
      "MADRS_Q5                   123 non-null float64\n",
      "MADRS_Q6                   123 non-null float64\n",
      "MADRS_Q7                   123 non-null float64\n",
      "MADRS_Q8                   123 non-null float64\n",
      "MADRS_Q9                   123 non-null float64\n",
      "MADRS_Q10                  123 non-null float64\n",
      "dtypes: float64(45), object(3)\n",
      "memory usage: 47.1+ KB\n",
      "<class 'pandas.core.frame.DataFrame'>\n",
      "Index: 94 entries, AA003 to AH956\n",
      "Data columns (total 49 columns):\n",
      "batch                      94 non-null object\n",
      "age                        94 non-null float64\n",
      "sex                        94 non-null object\n",
      "Diag                       94 non-null object\n",
      "PrimaryDiagnosis           94 non-null object\n",
      "hs_CRP                     94 non-null float64\n",
      "shaps_score                94 non-null float64\n",
      "psqi_score                 94 non-null float64\n",
      "ctq_denial_score           94 non-null float64\n",
      "ctq_emoabuse_score         94 non-null float64\n",
      "ctq_emoneglect_score       94 non-null float64\n",
      "ctq_physabuse_score        94 non-null float64\n",
      "ctq_physneglect_score      94 non-null float64\n",
      "ctq_sexabuse_score         94 non-null float64\n",
      "ctq_score                  94 non-null float64\n",
      "madrs_score                94 non-null float64\n",
      "hamd_hamd17_score          94 non-null float64\n",
      "hamd_hamd21_score          94 non-null float64\n",
      "hama_score                 94 non-null float64\n",
      "poms_score_tension         94 non-null float64\n",
      "poms_score_depression      94 non-null float64\n",
      "poms_score_anger           94 non-null float64\n",
      "poms_score_fatigue         94 non-null float64\n",
      "poms_score_friendliness    94 non-null float64\n",
      "poms_score_confusion       94 non-null float64\n",
      "poms_score_vigour          94 non-null float64\n",
      "poms_score_tmd             94 non-null float64\n",
      "qids_sleep_score           94 non-null float64\n",
      "qids_appetite_score        94 non-null float64\n",
      "qids_psychomotor_score     94 non-null float64\n",
      "qids_score                 94 non-null float64\n",
      "tci_coop_score             94 non-null float64\n",
      "tci_harmavoid_score        94 non-null float64\n",
      "tci_noveltyseek_score      94 non-null float64\n",
      "tci_persistence_score      94 non-null float64\n",
      "tci_rewarddep_score        94 non-null float64\n",
      "tci_selfdirect_score       94 non-null float64\n",
      "tci_selftranscend_score    94 non-null float64\n",
      "tci_impulsivity_score      94 non-null float64\n",
      "MADRS_Q1                   94 non-null float64\n",
      "MADRS_Q2                   94 non-null float64\n",
      "MADRS_Q3                   94 non-null float64\n",
      "MADRS_Q4                   94 non-null float64\n",
      "MADRS_Q5                   94 non-null float64\n",
      "MADRS_Q6                   94 non-null float64\n",
      "MADRS_Q7                   94 non-null float64\n",
      "MADRS_Q8                   94 non-null float64\n",
      "MADRS_Q9                   94 non-null float64\n",
      "MADRS_Q10                  94 non-null float64\n",
      "dtypes: float64(45), object(4)\n",
      "memory usage: 36.7+ KB\n"
     ]
    }
   ],
   "source": [
    "#création des dataset spd et pd\n",
    "all_filter_spd = all_nna_spd & all_filter_abber\n",
    "all_filter_pd = all_nna_pd & all_filter_abber\n",
    "\n",
    "demo_net_spd = demo[all_filter_spd]\n",
    "demo_net_pd = demo[all_filter_pd]\n",
    "\n",
    "demo_net_spd = demo_net_spd.drop([\"PrimaryDiagnosis\"], axis=1)\n",
    "demo_net_spd.info()\n",
    "demo_net_pd.info()\n"
   ]
  },
  {
   "cell_type": "markdown",
   "metadata": {},
   "source": [
    "ANALYSE DE DONNEES"
   ]
  },
  {
   "cell_type": "markdown",
   "metadata": {},
   "source": [
    "STAT A PARTIR DU DATASET SANS PRIMARY DIAGNOSIS"
   ]
  },
  {
   "cell_type": "code",
   "execution_count": 10,
   "metadata": {},
   "outputs": [
    {
     "name": "stdout",
     "output_type": "stream",
     "text": [
      "col_0  freq\n",
      "Diag       \n",
      "HC       74\n",
      "MDD      49\n",
      "col_0   freq\n",
      "sex         \n",
      "Female    67\n",
      "Male      56\n"
     ]
    }
   ],
   "source": [
    "#create crosstab sex diag\n",
    "t = pd.crosstab(demo_net_spd.Diag, \"freq\")\n",
    "s = pd.crosstab(demo_net_spd.sex, \"freq\")\n",
    "print(t)\n",
    "print(s)\n"
   ]
  },
  {
   "cell_type": "code",
   "execution_count": 11,
   "metadata": {},
   "outputs": [
    {
     "data": {
      "image/png": "[encoded data removed]",
      "text/plain": [
       "<Figure size 432x288 with 1 Axes>"
      ]
     },
     "metadata": {
      "needs_background": "light"
     },
     "output_type": "display_data"
    }
   ],
   "source": [
    "\n",
    "# Create bar diag of Diag and sex\n",
    "s.plot.bar()\n",
    "plt.show()\n"
   ]
  },
  {
   "cell_type": "code",
   "execution_count": 12,
   "metadata": {},
   "outputs": [
    {
     "data": {
      "image/png": "[encoded data removed]",
      "text/plain": [
       "<Figure size 432x288 with 1 Axes>"
      ]
     },
     "metadata": {
      "needs_background": "light"
     },
     "output_type": "display_data"
    }
   ],
   "source": [
    "plt.boxplot(demo_net_spd.age)\n",
    "plt.title('Age des sujets')\n",
    "plt.show()\n"
   ]
  },
  {
   "cell_type": "code",
   "execution_count": 13,
   "metadata": {},
   "outputs": [
    {
     "data": {
      "image/png": "[encoded data removed]",
      "text/plain": [
       "<Figure size 432x288 with 1 Axes>"
      ]
     },
     "metadata": {
      "needs_background": "light"
     },
     "output_type": "display_data"
    }
   ],
   "source": [
    "\n",
    "t.plot.bar()\n",
    "plt.show()\n"
   ]
  },
  {
   "cell_type": "code",
   "execution_count": 14,
   "metadata": {},
   "outputs": [
    {
     "data": {
      "image/png": "[encoded data removed]",
      "text/plain": [
       "<Figure size 432x288 with 1 Axes>"
      ]
     },
     "metadata": {
      "needs_background": "light"
     },
     "output_type": "display_data"
    }
   ],
   "source": [
    "\n",
    "plt.hist(demo_net_spd.hs_CRP, bins = 6)\n",
    "plt.title(\"hs_CRP\")\n",
    "plt.show()"
   ]
  },
  {
   "cell_type": "code",
   "execution_count": 15,
   "metadata": {},
   "outputs": [
    {
     "data": {
      "image/png": "[encoded data removed]",
      "text/plain": [
       "<Figure size 432x288 with 1 Axes>"
      ]
     },
     "metadata": {
      "needs_background": "light"
     },
     "output_type": "display_data"
    }
   ],
   "source": [
    "\n",
    "plt.hist(demo_net_spd.shaps_score, bins = 6)\n",
    "plt.title(\"shaps_score\")\n",
    "plt.show()"
   ]
  },
  {
   "cell_type": "code",
   "execution_count": 16,
   "metadata": {},
   "outputs": [
    {
     "data": {
      "image/png": "[encoded data removed]",
      "text/plain": [
       "<Figure size 432x288 with 1 Axes>"
      ]
     },
     "metadata": {
      "needs_background": "light"
     },
     "output_type": "display_data"
    }
   ],
   "source": [
    "\n",
    "plt.hist(demo_net_spd.psqi_score, bins=6)\n",
    "plt.title('PSQI score')\n",
    "plt.show()"
   ]
  },
  {
   "cell_type": "code",
   "execution_count": 17,
   "metadata": {},
   "outputs": [
    {
     "data": {
      "image/png": "[encoded data removed]",
      "text/plain": [
       "<Figure size 432x288 with 7 Axes>"
      ]
     },
     "metadata": {
      "needs_background": "light"
     },
     "output_type": "display_data"
    }
   ],
   "source": [
    "\n",
    "fig1 = plt.figure()\n",
    "ax11 = fig1.add_subplot(2,4,1)\n",
    "ax21 = fig1.add_subplot(2,4,2)\n",
    "ax31 = fig1.add_subplot(2,4,3)\n",
    "ax41 = fig1.add_subplot(2,4,4)\n",
    "ax51 = fig1.add_subplot(2,4,5)\n",
    "ax61 = fig1.add_subplot(2,4,6)\n",
    "ax71 = fig1.add_subplot(2,4,7)\n",
    "ax11.title.set_text('CTQ Score deni, minimisation')\n",
    "ax21.title.set_text('CTQ Abus emotionnels')\n",
    "ax31.title.set_text('CTQ Negligence emotionnelle')\n",
    "ax41.title.set_text('CTQ Abus physiques')\n",
    "ax51.title.set_text('CTQ Negligence physique')\n",
    "ax61.title.set_text('CTQ Abus sexuels')\n",
    "ax71.title.set_text('CTQ score global')\n",
    "ax11.hist(demo_net_spd.ctq_denial_score,bins = 6)\n",
    "ax21.hist(demo_net_spd.ctq_emoabuse_score,bins = 6)\n",
    "ax31.hist(demo_net_spd.ctq_emoneglect_score,bins = 6)\n",
    "ax41.hist(demo_net_spd.ctq_physabuse_score,bins = 6)\n",
    "ax51.hist(demo_net_spd.ctq_physneglect_score,bins = 6)\n",
    "ax61.hist(demo_net_spd.ctq_sexabuse_score,bins = 6)\n",
    "ax71.hist(demo_net_spd.ctq_score,bins = 6)\n",
    "plt.show()"
   ]
  },
  {
   "cell_type": "code",
   "execution_count": 18,
   "metadata": {},
   "outputs": [
    {
     "data": {
      "image/png": "[encoded data removed]",
      "text/plain": [
       "<Figure size 432x288 with 8 Axes>"
      ]
     },
     "metadata": {
      "needs_background": "light"
     },
     "output_type": "display_data"
    }
   ],
   "source": [
    "\n",
    "fig3 = plt.figure()\n",
    "ax12 = fig3.add_subplot(2,4,1)\n",
    "ax22 = fig3.add_subplot(2,4,2)\n",
    "ax32 = fig3.add_subplot(2,4,3)\n",
    "ax42 = fig3.add_subplot(2,4,4)\n",
    "ax52 = fig3.add_subplot(2,4,5)\n",
    "ax62 = fig3.add_subplot(2,4,6)\n",
    "ax72 = fig3.add_subplot(2,4,7)\n",
    "ax82 = fig3.add_subplot(2,4,8)\n",
    "ax12.title.set_text('POMS Score Anxiete')\n",
    "ax22.title.set_text('POMS Score Depression')\n",
    "ax32.title.set_text('POMS Score Agressivite')\n",
    "ax42.title.set_text('POMS Score Fatigue')\n",
    "ax52.title.set_text('POMS Score Relations interpersonnelles')\n",
    "ax62.title.set_text('POMS Score Confusion')\n",
    "ax72.title.set_text('POMS Score Vigueur')\n",
    "ax82.title.set_text('POMS Score global')\n",
    "ax12.hist(demo_net_spd.poms_score_tension,bins = 6)\n",
    "ax22.hist(demo_net_spd.poms_score_depression,bins = 6)\n",
    "ax32.hist(demo_net_spd.poms_score_anger,bins = 6)\n",
    "ax42.hist(demo_net_spd.poms_score_fatigue,bins = 6)\n",
    "ax52.hist(demo_net_spd.poms_score_friendliness,bins = 6)\n",
    "ax62.hist(demo_net_spd.poms_score_confusion,bins = 6)\n",
    "ax72.hist(demo_net_spd.poms_score_vigour,bins = 6)\n",
    "ax82.hist(demo_net_spd.poms_score_tmd,bins = 6)\n",
    "plt.show()"
   ]
  },
  {
   "cell_type": "code",
   "execution_count": 19,
   "metadata": {},
   "outputs": [
    {
     "data": {
      "image/png": "[encoded data removed]",
      "text/plain": [
       "<Figure size 432x288 with 4 Axes>"
      ]
     },
     "metadata": {
      "needs_background": "light"
     },
     "output_type": "display_data"
    }
   ],
   "source": [
    "fig2 = plt.figure()\n",
    "ax10 = fig2.add_subplot(2,2,1)\n",
    "ax20 = fig2.add_subplot(2,2,2)\n",
    "ax30 = fig2.add_subplot(2,2,3)\n",
    "ax40 = fig2.add_subplot(2,2,4)\n",
    "ax10.title.set_text('QIDS : Score troubles psychomoteurs')\n",
    "ax20.title.set_text('QIDS : Score troubles du sommeil')\n",
    "ax30.title.set_text(\"QIDS : Score troubles de l'appétit\")\n",
    "ax40.title.set_text('QIDS score global')\n",
    "ax10.hist(demo_net_spd.qids_psychomotor_score,bins = 6)\n",
    "ax20.hist(demo_net_spd.qids_sleep_score,bins = 6)\n",
    "ax30.hist(demo_net_spd.qids_appetite_score,bins = 6)\n",
    "ax40.hist(demo_net_spd.qids_score,bins = 6)\n",
    "plt.show()"
   ]
  },
  {
   "cell_type": "code",
   "execution_count": 20,
   "metadata": {},
   "outputs": [
    {
     "data": {
      "image/png": "[encoded data removed]",
      "text/plain": [
       "<Figure size 432x288 with 11 Axes>"
      ]
     },
     "metadata": {
      "needs_background": "light"
     },
     "output_type": "display_data"
    }
   ],
   "source": [
    "fig = plt.figure()\n",
    "ax1 = fig.add_subplot(4,3,1)\n",
    "ax2 = fig.add_subplot(4,3,2)\n",
    "ax3 = fig.add_subplot(4,3,3)\n",
    "ax4 = fig.add_subplot(4,3,4)\n",
    "ax5 = fig.add_subplot(4,3,5)\n",
    "ax6 = fig.add_subplot(4,3,6)\n",
    "ax7 = fig.add_subplot(4,3,7)\n",
    "ax8 = fig.add_subplot(4,3,8)\n",
    "ax9 = fig.add_subplot(4,3,9)\n",
    "ax10 = fig.add_subplot(4,3,10)\n",
    "ax1.title.set_text('MADRS_Q1')\n",
    "ax2.title.set_text('MADRS_Q2')\n",
    "ax3.title.set_text('MADRS_Q3')\n",
    "ax4.title.set_text('MADRS_Q4')\n",
    "ax5.title.set_text('MADRS_Q5')\n",
    "ax6.title.set_text('MADRS_Q6')\n",
    "ax7.title.set_text('MADRS_Q7')\n",
    "ax8.title.set_text('MADRS_Q8')\n",
    "ax9.title.set_text('MADRS_Q9')\n",
    "ax10.title.set_text('MADRS_Q10')\n",
    "ax1.hist(demo_net_spd.MADRS_Q1,bins = 6)\n",
    "ax2.hist(demo_net_spd.MADRS_Q2,bins = 6)\n",
    "ax3.hist(demo_net_spd.MADRS_Q3,bins = 6)\n",
    "ax4.hist(demo_net_spd.MADRS_Q4,bins = 6)\n",
    "ax5.hist(demo_net_spd.MADRS_Q5,bins = 6)\n",
    "ax6.hist(demo_net_spd.MADRS_Q6,bins = 6)\n",
    "ax7.hist(demo_net_spd.MADRS_Q7,bins = 6)\n",
    "ax8.hist(demo_net_spd.MADRS_Q8,bins = 6)\n",
    "ax9.hist(demo_net_spd.MADRS_Q9,bins = 6)\n",
    "ax10.hist(demo_net_spd.MADRS_Q10,bins = 6)\n",
    "ax11 = fig.add_subplot(4,3,11)\n",
    "ax11.title.set_text('MADRS Global Score')\n",
    "ax11.hist(demo_net_spd.madrs_score, bins=6)\n",
    "fig.subplots_adjust(left=0.12, bottom=0.11, right=0.90, top=0.92, wspace=0.2, hspace=0.5)\n",
    "plt.show()"
   ]
  },
  {
   "cell_type": "code",
   "execution_count": 21,
   "metadata": {},
   "outputs": [
    {
     "data": {
      "image/png": "[encoded data removed]",
      "text/plain": [
       "<Figure size 432x288 with 8 Axes>"
      ]
     },
     "metadata": {
      "needs_background": "light"
     },
     "output_type": "display_data"
    }
   ],
   "source": [
    "\n",
    "fag = plt.figure()\n",
    "az1 = fag.add_subplot(2,4,1)\n",
    "az2 = fag.add_subplot(2,4,2)\n",
    "az3 = fag.add_subplot(2,4,3)\n",
    "az4 = fag.add_subplot(2,4,4)\n",
    "az5 = fag.add_subplot(2,4,5)\n",
    "az6 = fag.add_subplot(2,4,6)\n",
    "az7 = fag.add_subplot(2,4,7)\n",
    "az8 = fag.add_subplot(2,4,8)\n",
    "az1.title.set_text('tci_coop_score')\n",
    "az2.title.set_text('tci_harmavoid_score')\n",
    "az3.title.set_text('tci_noveltyseek_score')\n",
    "az4.title.set_text('tci_persistence_score')\n",
    "az5.title.set_text('tci_rewarddep_score')\n",
    "az6.title.set_text('tci_selfdirect_score')\n",
    "az7.title.set_text('tci_selftranscend_score')\n",
    "az8.title.set_text('tci_impulsivity_score')\n",
    "az1.hist(demo_net_spd.tci_coop_score,bins = 6)\n",
    "az2.hist(demo_net_spd.tci_harmavoid_score,bins = 6)\n",
    "az3.hist(demo_net_spd.tci_noveltyseek_score,bins = 6)\n",
    "az4.hist(demo_net_spd.tci_persistence_score,bins = 6)\n",
    "az5.hist(demo_net_spd.tci_rewarddep_score,bins = 6)\n",
    "az6.hist(demo_net_spd.tci_selfdirect_score,bins = 6)\n",
    "az7.hist(demo_net_spd.tci_selftranscend_score,bins = 6)\n",
    "az8.hist(demo_net_spd.tci_impulsivity_score,bins = 6)\n",
    "plt.show()\n"
   ]
  },
  {
   "cell_type": "code",
   "execution_count": 22,
   "metadata": {},
   "outputs": [
    {
     "data": {
      "image/png": "[encoded data removed]",
      "text/plain": [
       "<Figure size 432x288 with 2 Axes>"
      ]
     },
     "metadata": {
      "needs_background": "light"
     },
     "output_type": "display_data"
    }
   ],
   "source": [
    "fog = plt.figure()\n",
    "az11 = fog.add_subplot(2,4,1)\n",
    "az12 = fog.add_subplot(2,4,2)\n",
    "az11.title.set_text('hamd_hamd17_score')\n",
    "az12.title.set_text('hamd_hamd21_score')\n",
    "az11.hist(demo_net_spd.hamd_hamd17_score,bins = 6)\n",
    "az12.hist(demo_net_spd.hamd_hamd21_score,bins = 6)\n",
    "\n",
    "plt.show()"
   ]
  },
  {
   "cell_type": "code",
   "execution_count": 23,
   "metadata": {},
   "outputs": [
    {
     "data": {
      "image/png": "[encoded data removed]",
      "text/plain": [
       "<Figure size 432x288 with 1 Axes>"
      ]
     },
     "metadata": {
      "needs_background": "light"
     },
     "output_type": "display_data"
    }
   ],
   "source": [
    "plt.hist(demo_net_spd.hama_score,bins = 6)\n",
    "plt.title(\"hama_score\")\n",
    "plt.show()\n",
    "\n"
   ]
  },
  {
   "cell_type": "code",
   "execution_count": 24,
   "metadata": {},
   "outputs": [
    {
     "name": "stdout",
     "output_type": "stream",
     "text": [
      "       batch         age     sex Diag      hs_CRP  shaps_score  psqi_score  \\\n",
      "count    123  123.000000     123  123  123.000000   123.000000  123.000000   \n",
      "unique     4         NaN       2    2         NaN          NaN         NaN   \n",
      "top      2nd         NaN  Female   HC         NaN          NaN         NaN   \n",
      "freq      33         NaN      67   74         NaN          NaN         NaN   \n",
      "mean     NaN   32.373984     NaN  NaN    3.025935    22.845528    6.894309   \n",
      "std      NaN   10.812408     NaN  NaN    4.654423     7.220227    3.819306   \n",
      "min      NaN   18.000000     NaN  NaN    0.000000    14.000000    0.000000   \n",
      "25%      NaN   24.000000     NaN  NaN    0.500000    16.000000    4.000000   \n",
      "50%      NaN   28.000000     NaN  NaN    1.300000    23.000000    6.000000   \n",
      "75%      NaN   43.000000     NaN  NaN    3.350000    28.000000    9.000000   \n",
      "max      NaN   55.000000     NaN  NaN   31.500000    42.000000   17.000000   \n",
      "\n",
      "        ctq_denial_score  ctq_emoabuse_score  ctq_emoneglect_score  ...  \\\n",
      "count         123.000000          123.000000            123.000000  ...   \n",
      "unique               NaN                 NaN                   NaN  ...   \n",
      "top                  NaN                 NaN                   NaN  ...   \n",
      "freq                 NaN                 NaN                   NaN  ...   \n",
      "mean            9.569106            8.544715              9.422764  ...   \n",
      "std             3.445314            4.924432              4.780439  ...   \n",
      "min             3.000000            4.000000              5.000000  ...   \n",
      "25%             7.000000            5.000000              5.000000  ...   \n",
      "50%            10.000000            6.000000              8.000000  ...   \n",
      "75%            12.000000           10.500000             12.500000  ...   \n",
      "max            15.000000           25.000000             22.000000  ...   \n",
      "\n",
      "          MADRS_Q1    MADRS_Q2    MADRS_Q3    MADRS_Q4    MADRS_Q5  \\\n",
      "count   123.000000  123.000000  123.000000  123.000000  123.000000   \n",
      "unique         NaN         NaN         NaN         NaN         NaN   \n",
      "top            NaN         NaN         NaN         NaN         NaN   \n",
      "freq           NaN         NaN         NaN         NaN         NaN   \n",
      "mean      0.926829    1.073171    1.146341    1.284553    0.325203   \n",
      "std       1.337791    1.385941    1.458064    1.539216    0.784020   \n",
      "min       0.000000    0.000000    0.000000    0.000000    0.000000   \n",
      "25%       0.000000    0.000000    0.000000    0.000000    0.000000   \n",
      "50%       0.000000    0.000000    0.000000    0.000000    0.000000   \n",
      "75%       2.000000    2.000000    2.000000    2.000000    0.000000   \n",
      "max       4.000000    4.000000    4.000000    6.000000    4.000000   \n",
      "\n",
      "          MADRS_Q6    MADRS_Q7    MADRS_Q8    MADRS_Q9   MADRS_Q10  \n",
      "count   123.000000  123.000000  123.000000  123.000000  123.000000  \n",
      "unique         NaN         NaN         NaN         NaN         NaN  \n",
      "top            NaN         NaN         NaN         NaN         NaN  \n",
      "freq           NaN         NaN         NaN         NaN         NaN  \n",
      "mean      0.861789    1.186992    0.878049    0.894309    0.292683  \n",
      "std       1.427627    1.595843    1.429120    1.383823    0.796835  \n",
      "min       0.000000    0.000000    0.000000    0.000000    0.000000  \n",
      "25%       0.000000    0.000000    0.000000    0.000000    0.000000  \n",
      "50%       0.000000    0.000000    0.000000    0.000000    0.000000  \n",
      "75%       2.000000    2.000000    2.000000    2.000000    0.000000  \n",
      "max       6.000000    4.000000    4.000000    4.000000    4.000000  \n",
      "\n",
      "[11 rows x 48 columns]\n"
     ]
    }
   ],
   "source": [
    "#some statistics\n",
    "\n",
    "print(demo_net_spd.describe(include='all'))"
   ]
  },
  {
   "cell_type": "code",
   "execution_count": null,
   "metadata": {},
   "outputs": [],
   "source": []
  }
 ],
 "metadata": {
  "kernelspec": {
   "display_name": "Python 3",
   "language": "python",
   "name": "python3"
  },
  "language_info": {
   "codemirror_mode": {
    "name": "ipython",
    "version": 3
   },
   "file_extension": ".py",
   "mimetype": "text/x-python",
   "name": "python",
   "nbconvert_exporter": "python",
   "pygments_lexer": "ipython3",
   "version": "3.8.0"
  }
 },
 "nbformat": 4,
 "nbformat_minor": 4
}
